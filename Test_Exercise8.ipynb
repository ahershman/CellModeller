{
  "nbformat": 4,
  "nbformat_minor": 0,
  "metadata": {
    "colab": {
      "name": "Test Exercise8.ipynb",
      "provenance": [],
      "collapsed_sections": [],
      "authorship_tag": "ABX9TyOoCBDazbvMcwyTBhbtjV8n",
      "include_colab_link": true
    },
    "kernelspec": {
      "name": "python3",
      "display_name": "Python 3"
    }
  },
  "cells": [
    {
      "cell_type": "markdown",
      "metadata": {
        "id": "view-in-github",
        "colab_type": "text"
      },
      "source": [
        "<a href=\"https://colab.research.google.com/github/ahershman/CellModeller/blob/master/Test_Exercise8.ipynb\" target=\"_parent\"><img src=\"https://colab.research.google.com/assets/colab-badge.svg\" alt=\"Open In Colab\"/></a>"
      ]
    },
    {
      "cell_type": "markdown",
      "metadata": {
        "id": "ZGxwC_TFOStV",
        "colab_type": "text"
      },
      "source": [
        "Test code for exercise 8:\n",
        "copy, paste and run after your definition of remove_letter"
      ]
    },
    {
      "cell_type": "code",
      "metadata": {
        "id": "xcHiWtFIOiKV",
        "colab_type": "code",
        "colab": {}
      },
      "source": [
        "def testRemove_letter() :\n",
        "  testCases = [('a','abracadabra'), ('b','abracadabra'),('c','abracadabra'),('a','aaaaaaa')]\n",
        "  answers = ['brcdbr', 'aracadara', 'abraadabra', '']\n",
        "  i = 0\n",
        "  for (l,s) in testCases :\n",
        "    result = remove_letter(l,s)\n",
        "    if(result == answers[i]) :\n",
        "      b = \"PASS\"\n",
        "    else :\n",
        "      b = \"FAIL\"\n",
        "    print(\"Input Letter:{} InputStr:{} Output:{} {}\".format(l,s,result,b))\n",
        "    i = i+1\n",
        "testRemove_letter()"
      ],
      "execution_count": 0,
      "outputs": []
    },
    {
      "cell_type": "code",
      "metadata": {
        "id": "mSuB5Za0O7FM",
        "colab_type": "code",
        "cellView": "form",
        "colab": {}
      },
      "source": [
        "#@title don't look at!\n",
        "#my remove letter\n",
        "def remove_letter(theLetter, theString) :\n",
        "  l = len(theString)\n",
        "  newString = \"\"\n",
        "  for i in range(0,l) :\n",
        "    c = theString[i]\n",
        "    if(c != theLetter) :\n",
        "      newString = newString+c\n",
        "    #endif\n",
        "  #end for\n",
        "  return(newString)"
      ],
      "execution_count": 0,
      "outputs": []
    }
  ]
}